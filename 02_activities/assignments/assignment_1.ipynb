{
  "cells": [
    {
      "cell_type": "markdown",
      "id": "ba8ab56f",
      "metadata": {
        "id": "ba8ab56f"
      },
      "source": [
        "# Advanced Image Classification with ImageNet"
      ]
    },
    {
      "cell_type": "markdown",
      "id": "7c630244b8fe2847",
      "metadata": {
        "collapsed": false,
        "id": "7c630244b8fe2847"
      },
      "source": [
        "In this assignment, you will be asked to develop a convolutional neural network (CNN) to classify images from the CIFAR-100 dataset. At each step, you'll be guided through the process of developing a model architecture to solve a problem. Your goal is to create a CNN that attains at least 55% accuracy on the validation set.\n",
        "\n",
        "### The CIFAR-100 Dataset\n",
        "\n",
        "The [CIFAR-100 dataset](https://www.cs.toronto.edu/~kriz/cifar.html) consists of 60000 32x32 colour images in 100 classes, with 600 images per class. There are 50000 training images and 10000 test images. The dataset is divided into five training batches and one test batch, each with 10000 images. The test batch contains exactly 1000 randomly-selected images from each class. The training batches contain the remaining images in random order, but some training batches may contain more images from one class than another. Between them, the training batches contain exactly 500 images from each class.\n",
        "\n",
        "### Tools\n",
        "\n",
        "You will use Keras with TensorFlow to develop your CNN. For this assignment, it's strongly recommended that you use a GPU to accelerate your training, or else you might find it difficult to train your network in a reasonable amount of time. If you have a computer with a GPU that you wish to use, you can follow the [TensorFlow instructions](https://www.tensorflow.org/install/) for installing TensorFlow with GPU support. Otherwise, you can use [Google Colab](https://colab.research.google.com/) to complete this assignment. Colab provides free access to GPU-enabled machines. If you run into any issues, please contact us as soon as possible so that we can help you resolve them."
      ]
    },
    {
      "cell_type": "markdown",
      "id": "fab62988ece1528d",
      "metadata": {
        "collapsed": false,
        "id": "fab62988ece1528d"
      },
      "source": [
        "## Task 1: Data Exploration and Preprocessing (Complete or Incomplete)\n",
        "### 1a: Load and Explore the Dataset\n",
        "- Use the code below to download the dataset.\n",
        "- Explore the dataset: examine the shape of the training and test sets, the dimensions of the images, and the number of classes. Show a few examples from the training set."
      ]
    },
    {
      "cell_type": "code",
      "execution_count": 1,
      "id": "8820fcdc5ae52ae2",
      "metadata": {
        "ExecuteTime": {
          "start_time": "2024-01-26T17:04:08.432758Z"
        },
        "is_executing": true,
        "colab": {
          "base_uri": "https://localhost:8080/"
        },
        "id": "8820fcdc5ae52ae2",
        "outputId": "aeed9586-6e8d-4d3e-89b1-9543c0c56593"
      },
      "outputs": [
        {
          "output_type": "stream",
          "name": "stdout",
          "text": [
            "Downloading data from https://www.cs.toronto.edu/~kriz/cifar-100-python.tar.gz\n",
            "\u001b[1m169001437/169001437\u001b[0m \u001b[32m━━━━━━━━━━━━━━━━━━━━\u001b[0m\u001b[37m\u001b[0m \u001b[1m19s\u001b[0m 0us/step\n"
          ]
        }
      ],
      "source": [
        "from keras.datasets import cifar100\n",
        "\n",
        "# Load the CIFAR-100 dataset\n",
        "(x_train, y_train), (x_test, y_test) = cifar100.load_data(label_mode='fine')"
      ]
    },
    {
      "cell_type": "code",
      "execution_count": 2,
      "id": "a386b4072078138f",
      "metadata": {
        "id": "a386b4072078138f"
      },
      "outputs": [],
      "source": [
        "class_names = [\n",
        "    \"apple\", \"aquarium_fish\", \"baby\", \"bear\", \"beaver\", \"bed\", \"bee\", \"beetle\", \"bicycle\", \"bottle\",\n",
        "    \"bowl\", \"boy\", \"bridge\", \"bus\", \"butterfly\", \"camel\", \"can\", \"castle\", \"caterpillar\", \"cattle\",\n",
        "    \"chair\", \"chimpanzee\", \"clock\", \"cloud\", \"cockroach\", \"couch\", \"crab\", \"crocodile\", \"cup\", \"dinosaur\",\n",
        "    \"dolphin\", \"elephant\", \"flatfish\", \"forest\", \"fox\", \"girl\", \"hamster\", \"house\", \"kangaroo\", \"keyboard\",\n",
        "    \"lamp\", \"lawn_mower\", \"leopard\", \"lion\", \"lizard\", \"lobster\", \"man\", \"maple_tree\", \"motorcycle\", \"mountain\",\n",
        "    \"mouse\", \"mushroom\", \"oak_tree\", \"orange\", \"orchid\", \"otter\", \"palm_tree\", \"pear\", \"pickup_truck\", \"pine_tree\",\n",
        "    \"plain\", \"plate\", \"poppy\", \"porcupine\", \"possum\", \"rabbit\", \"raccoon\", \"ray\", \"road\", \"rocket\",\n",
        "    \"rose\", \"sea\", \"seal\", \"shark\", \"shrew\", \"skunk\", \"skyscraper\", \"snail\", \"snake\", \"spider\",\n",
        "    \"squirrel\", \"streetcar\", \"sunflower\", \"sweet_pepper\", \"table\", \"tank\", \"telephone\", \"television\", \"tiger\", \"tractor\",\n",
        "    \"train\", \"trout\", \"tulip\", \"turtle\", \"wardrobe\", \"whale\", \"willow_tree\", \"wolf\", \"woman\", \"worm\"\n",
        "]"
      ]
    },
    {
      "cell_type": "code",
      "execution_count": 3,
      "id": "36ca8354",
      "metadata": {
        "colab": {
          "base_uri": "https://localhost:8080/",
          "height": 263
        },
        "id": "36ca8354",
        "outputId": "4c7fbe59-c2f9-4ec5-d6f0-a14f3799ed06"
      },
      "outputs": [
        {
          "output_type": "stream",
          "name": "stdout",
          "text": [
            "Training data shape: (50000, 32, 32, 3)\n",
            "Training labels shape: (50000, 1)\n",
            "Test data shape: (10000, 32, 32, 3)\n",
            "Test labels shape: (10000, 1)\n"
          ]
        },
        {
          "output_type": "display_data",
          "data": {
            "text/plain": [
              "<Figure size 1000x200 with 5 Axes>"
            ],
            "image/png": "[encoded data removed]"
          },
          "metadata": {}
        }
      ],
      "source": [
        "import matplotlib.pyplot as plt\n",
        "\n",
        "print(f\"Training data shape: {x_train.shape}\")\n",
        "print(f\"Training labels shape: {y_train.shape}\")\n",
        "print(f\"Test data shape: {x_test.shape}\")\n",
        "print(f\"Test labels shape: {y_test.shape}\")\n",
        "\n",
        "# Display a few example images with their labels\n",
        "fig, axes = plt.subplots(1, 5, figsize=(10, 2))\n",
        "for i, ax in enumerate(axes):\n",
        "    ax.imshow(x_train[i])\n",
        "    ax.set_title(f\"Label: {y_train[i][0]}\")\n",
        "    ax.axis('off')\n",
        "plt.show()"
      ]
    },
    {
      "cell_type": "markdown",
      "id": "ad49291da3a819ea",
      "metadata": {
        "collapsed": false,
        "id": "ad49291da3a819ea"
      },
      "source": [
        "### 1b: Data Preprocessing\n",
        "- With the data downloaded, it's time to preprocess it. Start by normalizing the images so that they all have pixel values in the range [0, 1].\n",
        "- Next, convert the labels to one-hot encoded vectors.\n",
        "- Finally, split the training set into training and validation sets. Use 80% of the training set for training and the remaining 20% for validation."
      ]
    },
    {
      "cell_type": "code",
      "execution_count": 4,
      "id": "b18c10172fa72d0c",
      "metadata": {
        "colab": {
          "base_uri": "https://localhost:8080/"
        },
        "id": "b18c10172fa72d0c",
        "outputId": "6a57c4ab-5ee7-4380-fa6b-8a65490e7fbf"
      },
      "outputs": [
        {
          "output_type": "stream",
          "name": "stdout",
          "text": [
            "Training set size: 40000\n",
            "Validation set size: 10000\n"
          ]
        }
      ],
      "source": [
        "from keras.utils import to_categorical\n",
        "from sklearn.model_selection import train_test_split\n",
        "\n",
        "# Normalize the images\n",
        "x_train = x_train.astype('float32') / 255.0\n",
        "x_test = x_test.astype('float32') / 255.0\n",
        "\n",
        "# One-hot encode labels\n",
        "y_train = to_categorical(y_train, 100)\n",
        "y_test = to_categorical(y_test, 100)\n",
        "\n",
        "# Split the training set into training and validation sets\n",
        "x_train, x_val, y_train, y_val = train_test_split(x_train, y_train, test_size=0.2, random_state=42)\n",
        "\n",
        "print(f\"Training set size: {x_train.shape[0]}\")\n",
        "print(f\"Validation set size: {x_val.shape[0]}\")"
      ]
    },
    {
      "cell_type": "markdown",
      "id": "5993757f08c89db7",
      "metadata": {
        "collapsed": false,
        "id": "5993757f08c89db7"
      },
      "source": [
        "## Task 2: Model Development (Complete or Incomplete)\n",
        "### Task 2a: Create a Baseline CNN Model\n",
        "- Design a CNN architecture. Your architecture should use convolutional layers, max pooling layers, and dense layers. You can use any number of layers, and you can experiment with different numbers of filters, filter sizes, strides, padding, etc. The design doesn't need to be perfect, but it should be unique to you.\n",
        "- Print out the model summary."
      ]
    },
    {
      "cell_type": "code",
      "execution_count": 16,
      "id": "c9edafdaf887b8d5",
      "metadata": {
        "colab": {
          "base_uri": "https://localhost:8080/",
          "height": 397
        },
        "id": "c9edafdaf887b8d5",
        "outputId": "15438274-4196-459d-fe05-090b3eb4c15a"
      },
      "outputs": [
        {
          "output_type": "display_data",
          "data": {
            "text/plain": [
              "\u001b[1mModel: \"sequential_5\"\u001b[0m\n"
            ],
            "text/html": [
              "<pre style=\"white-space:pre;overflow-x:auto;line-height:normal;font-family:Menlo,'DejaVu Sans Mono',consolas,'Courier New',monospace\"><span style=\"font-weight: bold\">Model: \"sequential_5\"</span>\n",
              "</pre>\n"
            ]
          },
          "metadata": {}
        },
        {
          "output_type": "display_data",
          "data": {
            "text/plain": [
              "┏━━━━━━━━━━━━━━━━━━━━━━━━━━━━━━━━━━━━━━┳━━━━━━━━━━━━━━━━━━━━━━━━━━━━━┳━━━━━━━━━━━━━━━━━┓\n",
              "┃\u001b[1m \u001b[0m\u001b[1mLayer (type)                        \u001b[0m\u001b[1m \u001b[0m┃\u001b[1m \u001b[0m\u001b[1mOutput Shape               \u001b[0m\u001b[1m \u001b[0m┃\u001b[1m \u001b[0m\u001b[1m        Param #\u001b[0m\u001b[1m \u001b[0m┃\n",
              "┡━━━━━━━━━━━━━━━━━━━━━━━━━━━━━━━━━━━━━━╇━━━━━━━━━━━━━━━━━━━━━━━━━━━━━╇━━━━━━━━━━━━━━━━━┩\n",
              "│ conv2d_13 (\u001b[38;5;33mConv2D\u001b[0m)                   │ (\u001b[38;5;45mNone\u001b[0m, \u001b[38;5;34m32\u001b[0m, \u001b[38;5;34m32\u001b[0m, \u001b[38;5;34m32\u001b[0m)          │             \u001b[38;5;34m896\u001b[0m │\n",
              "├──────────────────────────────────────┼─────────────────────────────┼─────────────────┤\n",
              "│ max_pooling2d_12 (\u001b[38;5;33mMaxPooling2D\u001b[0m)      │ (\u001b[38;5;45mNone\u001b[0m, \u001b[38;5;34m16\u001b[0m, \u001b[38;5;34m16\u001b[0m, \u001b[38;5;34m32\u001b[0m)          │               \u001b[38;5;34m0\u001b[0m │\n",
              "├──────────────────────────────────────┼─────────────────────────────┼─────────────────┤\n",
              "│ conv2d_14 (\u001b[38;5;33mConv2D\u001b[0m)                   │ (\u001b[38;5;45mNone\u001b[0m, \u001b[38;5;34m16\u001b[0m, \u001b[38;5;34m16\u001b[0m, \u001b[38;5;34m64\u001b[0m)          │          \u001b[38;5;34m18,496\u001b[0m │\n",
              "├──────────────────────────────────────┼─────────────────────────────┼─────────────────┤\n",
              "│ max_pooling2d_13 (\u001b[38;5;33mMaxPooling2D\u001b[0m)      │ (\u001b[38;5;45mNone\u001b[0m, \u001b[38;5;34m8\u001b[0m, \u001b[38;5;34m8\u001b[0m, \u001b[38;5;34m64\u001b[0m)            │               \u001b[38;5;34m0\u001b[0m │\n",
              "├──────────────────────────────────────┼─────────────────────────────┼─────────────────┤\n",
              "│ conv2d_15 (\u001b[38;5;33mConv2D\u001b[0m)                   │ (\u001b[38;5;45mNone\u001b[0m, \u001b[38;5;34m8\u001b[0m, \u001b[38;5;34m8\u001b[0m, \u001b[38;5;34m128\u001b[0m)           │          \u001b[38;5;34m73,856\u001b[0m │\n",
              "├──────────────────────────────────────┼─────────────────────────────┼─────────────────┤\n",
              "│ max_pooling2d_14 (\u001b[38;5;33mMaxPooling2D\u001b[0m)      │ (\u001b[38;5;45mNone\u001b[0m, \u001b[38;5;34m4\u001b[0m, \u001b[38;5;34m4\u001b[0m, \u001b[38;5;34m128\u001b[0m)           │               \u001b[38;5;34m0\u001b[0m │\n",
              "├──────────────────────────────────────┼─────────────────────────────┼─────────────────┤\n",
              "│ flatten_4 (\u001b[38;5;33mFlatten\u001b[0m)                  │ (\u001b[38;5;45mNone\u001b[0m, \u001b[38;5;34m2048\u001b[0m)                │               \u001b[38;5;34m0\u001b[0m │\n",
              "├──────────────────────────────────────┼─────────────────────────────┼─────────────────┤\n",
              "│ dense_5 (\u001b[38;5;33mDense\u001b[0m)                      │ (\u001b[38;5;45mNone\u001b[0m, \u001b[38;5;34m100\u001b[0m)                 │         \u001b[38;5;34m204,900\u001b[0m │\n",
              "└──────────────────────────────────────┴─────────────────────────────┴─────────────────┘\n"
            ],
            "text/html": [
              "<pre style=\"white-space:pre;overflow-x:auto;line-height:normal;font-family:Menlo,'DejaVu Sans Mono',consolas,'Courier New',monospace\">┏━━━━━━━━━━━━━━━━━━━━━━━━━━━━━━━━━━━━━━┳━━━━━━━━━━━━━━━━━━━━━━━━━━━━━┳━━━━━━━━━━━━━━━━━┓\n",
              "┃<span style=\"font-weight: bold\"> Layer (type)                         </span>┃<span style=\"font-weight: bold\"> Output Shape                </span>┃<span style=\"font-weight: bold\">         Param # </span>┃\n",
              "┡━━━━━━━━━━━━━━━━━━━━━━━━━━━━━━━━━━━━━━╇━━━━━━━━━━━━━━━━━━━━━━━━━━━━━╇━━━━━━━━━━━━━━━━━┩\n",
              "│ conv2d_13 (<span style=\"color: #0087ff; text-decoration-color: #0087ff\">Conv2D</span>)                   │ (<span style=\"color: #00d7ff; text-decoration-color: #00d7ff\">None</span>, <span style=\"color: #00af00; text-decoration-color: #00af00\">32</span>, <span style=\"color: #00af00; text-decoration-color: #00af00\">32</span>, <span style=\"color: #00af00; text-decoration-color: #00af00\">32</span>)          │             <span style=\"color: #00af00; text-decoration-color: #00af00\">896</span> │\n",
              "├──────────────────────────────────────┼─────────────────────────────┼─────────────────┤\n",
              "│ max_pooling2d_12 (<span style=\"color: #0087ff; text-decoration-color: #0087ff\">MaxPooling2D</span>)      │ (<span style=\"color: #00d7ff; text-decoration-color: #00d7ff\">None</span>, <span style=\"color: #00af00; text-decoration-color: #00af00\">16</span>, <span style=\"color: #00af00; text-decoration-color: #00af00\">16</span>, <span style=\"color: #00af00; text-decoration-color: #00af00\">32</span>)          │               <span style=\"color: #00af00; text-decoration-color: #00af00\">0</span> │\n",
              "├──────────────────────────────────────┼─────────────────────────────┼─────────────────┤\n",
              "│ conv2d_14 (<span style=\"color: #0087ff; text-decoration-color: #0087ff\">Conv2D</span>)                   │ (<span style=\"color: #00d7ff; text-decoration-color: #00d7ff\">None</span>, <span style=\"color: #00af00; text-decoration-color: #00af00\">16</span>, <span style=\"color: #00af00; text-decoration-color: #00af00\">16</span>, <span style=\"color: #00af00; text-decoration-color: #00af00\">64</span>)          │          <span style=\"color: #00af00; text-decoration-color: #00af00\">18,496</span> │\n",
              "├──────────────────────────────────────┼─────────────────────────────┼─────────────────┤\n",
              "│ max_pooling2d_13 (<span style=\"color: #0087ff; text-decoration-color: #0087ff\">MaxPooling2D</span>)      │ (<span style=\"color: #00d7ff; text-decoration-color: #00d7ff\">None</span>, <span style=\"color: #00af00; text-decoration-color: #00af00\">8</span>, <span style=\"color: #00af00; text-decoration-color: #00af00\">8</span>, <span style=\"color: #00af00; text-decoration-color: #00af00\">64</span>)            │               <span style=\"color: #00af00; text-decoration-color: #00af00\">0</span> │\n",
              "├──────────────────────────────────────┼─────────────────────────────┼─────────────────┤\n",
              "│ conv2d_15 (<span style=\"color: #0087ff; text-decoration-color: #0087ff\">Conv2D</span>)                   │ (<span style=\"color: #00d7ff; text-decoration-color: #00d7ff\">None</span>, <span style=\"color: #00af00; text-decoration-color: #00af00\">8</span>, <span style=\"color: #00af00; text-decoration-color: #00af00\">8</span>, <span style=\"color: #00af00; text-decoration-color: #00af00\">128</span>)           │          <span style=\"color: #00af00; text-decoration-color: #00af00\">73,856</span> │\n",
              "├──────────────────────────────────────┼─────────────────────────────┼─────────────────┤\n",
              "│ max_pooling2d_14 (<span style=\"color: #0087ff; text-decoration-color: #0087ff\">MaxPooling2D</span>)      │ (<span style=\"color: #00d7ff; text-decoration-color: #00d7ff\">None</span>, <span style=\"color: #00af00; text-decoration-color: #00af00\">4</span>, <span style=\"color: #00af00; text-decoration-color: #00af00\">4</span>, <span style=\"color: #00af00; text-decoration-color: #00af00\">128</span>)           │               <span style=\"color: #00af00; text-decoration-color: #00af00\">0</span> │\n",
              "├──────────────────────────────────────┼─────────────────────────────┼─────────────────┤\n",
              "│ flatten_4 (<span style=\"color: #0087ff; text-decoration-color: #0087ff\">Flatten</span>)                  │ (<span style=\"color: #00d7ff; text-decoration-color: #00d7ff\">None</span>, <span style=\"color: #00af00; text-decoration-color: #00af00\">2048</span>)                │               <span style=\"color: #00af00; text-decoration-color: #00af00\">0</span> │\n",
              "├──────────────────────────────────────┼─────────────────────────────┼─────────────────┤\n",
              "│ dense_5 (<span style=\"color: #0087ff; text-decoration-color: #0087ff\">Dense</span>)                      │ (<span style=\"color: #00d7ff; text-decoration-color: #00d7ff\">None</span>, <span style=\"color: #00af00; text-decoration-color: #00af00\">100</span>)                 │         <span style=\"color: #00af00; text-decoration-color: #00af00\">204,900</span> │\n",
              "└──────────────────────────────────────┴─────────────────────────────┴─────────────────┘\n",
              "</pre>\n"
            ]
          },
          "metadata": {}
        },
        {
          "output_type": "display_data",
          "data": {
            "text/plain": [
              "\u001b[1m Total params: \u001b[0m\u001b[38;5;34m298,148\u001b[0m (1.14 MB)\n"
            ],
            "text/html": [
              "<pre style=\"white-space:pre;overflow-x:auto;line-height:normal;font-family:Menlo,'DejaVu Sans Mono',consolas,'Courier New',monospace\"><span style=\"font-weight: bold\"> Total params: </span><span style=\"color: #00af00; text-decoration-color: #00af00\">298,148</span> (1.14 MB)\n",
              "</pre>\n"
            ]
          },
          "metadata": {}
        },
        {
          "output_type": "display_data",
          "data": {
            "text/plain": [
              "\u001b[1m Trainable params: \u001b[0m\u001b[38;5;34m298,148\u001b[0m (1.14 MB)\n"
            ],
            "text/html": [
              "<pre style=\"white-space:pre;overflow-x:auto;line-height:normal;font-family:Menlo,'DejaVu Sans Mono',consolas,'Courier New',monospace\"><span style=\"font-weight: bold\"> Trainable params: </span><span style=\"color: #00af00; text-decoration-color: #00af00\">298,148</span> (1.14 MB)\n",
              "</pre>\n"
            ]
          },
          "metadata": {}
        },
        {
          "output_type": "display_data",
          "data": {
            "text/plain": [
              "\u001b[1m Non-trainable params: \u001b[0m\u001b[38;5;34m0\u001b[0m (0.00 B)\n"
            ],
            "text/html": [
              "<pre style=\"white-space:pre;overflow-x:auto;line-height:normal;font-family:Menlo,'DejaVu Sans Mono',consolas,'Courier New',monospace\"><span style=\"font-weight: bold\"> Non-trainable params: </span><span style=\"color: #00af00; text-decoration-color: #00af00\">0</span> (0.00 B)\n",
              "</pre>\n"
            ]
          },
          "metadata": {}
        }
      ],
      "source": [
        "from keras.models import Sequential\n",
        "from keras.layers import Conv2D, MaxPooling2D, Flatten, Dense\n",
        "\n",
        "model = Sequential()\n",
        "\n",
        "model.add(Conv2D(32, (3, 3), activation='relu', padding='same', input_shape=(32, 32, 3)))\n",
        "model.add(MaxPooling2D((2, 2)))\n",
        "\n",
        "model.add(Conv2D(64, (3, 3), activation='relu', padding='same'))\n",
        "model.add(MaxPooling2D((2, 2)))\n",
        "\n",
        "model.add(Conv2D(128, (3, 3), activation='relu', padding='same'))\n",
        "model.add(MaxPooling2D((2, 2)))\n",
        "\n",
        "model.add(Flatten())\n",
        "model.add(Dense(100, activation='softmax'))\n",
        "\n",
        "model.summary()"
      ]
    },
    {
      "cell_type": "markdown",
      "id": "546324c007c73db5",
      "metadata": {
        "collapsed": false,
        "id": "546324c007c73db5"
      },
      "source": [
        "### Task 2b: Compile the model\n",
        "\n",
        "- Select an appropriate loss function and optimizer for your model. These can be ones we have looked at already, or they can be different.\n",
        "- Briefly explain your choices (one or two sentences each).\n",
        "- <b>Loss function:</b> ______\n",
        "- <b>Optimizer:</b> ______"
      ]
    },
    {
      "cell_type": "code",
      "execution_count": 17,
      "id": "ab39f4ba69d684e9",
      "metadata": {
        "id": "ab39f4ba69d684e9"
      },
      "outputs": [],
      "source": [
        "from keras import optimizers\n",
        "\n",
        "from keras.optimizers import Adam\n",
        "\n",
        "# Compile the model\n",
        "model.compile(optimizer=Adam(),\n",
        "              loss='categorical_crossentropy',\n",
        "              metrics=['accuracy'])"
      ]
    },
    {
      "cell_type": "markdown",
      "id": "653fba928413b9f6",
      "metadata": {
        "collapsed": false,
        "id": "653fba928413b9f6"
      },
      "source": [
        "## Task 3: Model Training and Evaluation (Complete or Incomplete)\n",
        "### Task 3a: Train the Model\n",
        "\n",
        "- Train your model for an appropriate number of epochs. Explain your choice of the number of epochs used - you can change this number before submitting your assignment.\n",
        "- Use a batch size of 32.\n",
        "- Use the validation set for validation."
      ]
    },
    {
      "cell_type": "code",
      "execution_count": 18,
      "id": "9de74f274ad08546",
      "metadata": {
        "colab": {
          "base_uri": "https://localhost:8080/"
        },
        "id": "9de74f274ad08546",
        "outputId": "d2b8d124-fd1b-4aaf-b58f-b285d85fc8c0"
      },
      "outputs": [
        {
          "output_type": "stream",
          "name": "stdout",
          "text": [
            "Epoch 1/15\n",
            "\u001b[1m1250/1250\u001b[0m \u001b[32m━━━━━━━━━━━━━━━━━━━━\u001b[0m\u001b[37m\u001b[0m \u001b[1m9s\u001b[0m 5ms/step - accuracy: 0.0929 - loss: 4.0420 - val_accuracy: 0.2550 - val_loss: 3.0668\n",
            "Epoch 2/15\n",
            "\u001b[1m1250/1250\u001b[0m \u001b[32m━━━━━━━━━━━━━━━━━━━━\u001b[0m\u001b[37m\u001b[0m \u001b[1m9s\u001b[0m 5ms/step - accuracy: 0.2872 - loss: 2.8970 - val_accuracy: 0.3320 - val_loss: 2.7069\n",
            "Epoch 3/15\n",
            "\u001b[1m1250/1250\u001b[0m \u001b[32m━━━━━━━━━━━━━━━━━━━━\u001b[0m\u001b[37m\u001b[0m \u001b[1m5s\u001b[0m 4ms/step - accuracy: 0.3958 - loss: 2.4055 - val_accuracy: 0.3621 - val_loss: 2.5722\n",
            "Epoch 4/15\n",
            "\u001b[1m1250/1250\u001b[0m \u001b[32m━━━━━━━━━━━━━━━━━━━━\u001b[0m\u001b[37m\u001b[0m \u001b[1m6s\u001b[0m 4ms/step - accuracy: 0.4633 - loss: 2.0769 - val_accuracy: 0.3767 - val_loss: 2.5511\n",
            "Epoch 5/15\n",
            "\u001b[1m1250/1250\u001b[0m \u001b[32m━━━━━━━━━━━━━━━━━━━━\u001b[0m\u001b[37m\u001b[0m \u001b[1m5s\u001b[0m 4ms/step - accuracy: 0.5224 - loss: 1.8054 - val_accuracy: 0.3952 - val_loss: 2.4879\n",
            "Epoch 6/15\n",
            "\u001b[1m1250/1250\u001b[0m \u001b[32m━━━━━━━━━━━━━━━━━━━━\u001b[0m\u001b[37m\u001b[0m \u001b[1m5s\u001b[0m 4ms/step - accuracy: 0.5709 - loss: 1.5777 - val_accuracy: 0.3922 - val_loss: 2.5608\n",
            "Epoch 7/15\n",
            "\u001b[1m1250/1250\u001b[0m \u001b[32m━━━━━━━━━━━━━━━━━━━━\u001b[0m\u001b[37m\u001b[0m \u001b[1m6s\u001b[0m 4ms/step - accuracy: 0.6276 - loss: 1.3661 - val_accuracy: 0.3868 - val_loss: 2.6447\n",
            "Epoch 8/15\n",
            "\u001b[1m1250/1250\u001b[0m \u001b[32m━━━━━━━━━━━━━━━━━━━━\u001b[0m\u001b[37m\u001b[0m \u001b[1m6s\u001b[0m 4ms/step - accuracy: 0.6612 - loss: 1.2036 - val_accuracy: 0.3866 - val_loss: 2.7991\n",
            "Epoch 9/15\n",
            "\u001b[1m1250/1250\u001b[0m \u001b[32m━━━━━━━━━━━━━━━━━━━━\u001b[0m\u001b[37m\u001b[0m \u001b[1m10s\u001b[0m 4ms/step - accuracy: 0.7118 - loss: 1.0269 - val_accuracy: 0.3798 - val_loss: 2.9072\n",
            "Epoch 10/15\n",
            "\u001b[1m1250/1250\u001b[0m \u001b[32m━━━━━━━━━━━━━━━━━━━━\u001b[0m\u001b[37m\u001b[0m \u001b[1m6s\u001b[0m 5ms/step - accuracy: 0.7484 - loss: 0.8828 - val_accuracy: 0.3763 - val_loss: 3.2499\n",
            "Epoch 11/15\n",
            "\u001b[1m1250/1250\u001b[0m \u001b[32m━━━━━━━━━━━━━━━━━━━━\u001b[0m\u001b[37m\u001b[0m \u001b[1m9s\u001b[0m 4ms/step - accuracy: 0.7731 - loss: 0.7753 - val_accuracy: 0.3806 - val_loss: 3.4323\n",
            "Epoch 12/15\n",
            "\u001b[1m1250/1250\u001b[0m \u001b[32m━━━━━━━━━━━━━━━━━━━━\u001b[0m\u001b[37m\u001b[0m \u001b[1m11s\u001b[0m 4ms/step - accuracy: 0.8062 - loss: 0.6633 - val_accuracy: 0.3726 - val_loss: 3.5616\n",
            "Epoch 13/15\n",
            "\u001b[1m1250/1250\u001b[0m \u001b[32m━━━━━━━━━━━━━━━━━━━━\u001b[0m\u001b[37m\u001b[0m \u001b[1m10s\u001b[0m 4ms/step - accuracy: 0.8270 - loss: 0.5757 - val_accuracy: 0.3669 - val_loss: 3.8616\n",
            "Epoch 14/15\n",
            "\u001b[1m1250/1250\u001b[0m \u001b[32m━━━━━━━━━━━━━━━━━━━━\u001b[0m\u001b[37m\u001b[0m \u001b[1m10s\u001b[0m 4ms/step - accuracy: 0.8526 - loss: 0.4897 - val_accuracy: 0.3581 - val_loss: 4.1626\n",
            "Epoch 15/15\n",
            "\u001b[1m1250/1250\u001b[0m \u001b[32m━━━━━━━━━━━━━━━━━━━━\u001b[0m\u001b[37m\u001b[0m \u001b[1m10s\u001b[0m 4ms/step - accuracy: 0.8658 - loss: 0.4358 - val_accuracy: 0.3599 - val_loss: 4.5485\n"
          ]
        }
      ],
      "source": [
        "history = model.fit(\n",
        "    x_train, y_train,\n",
        "    epochs=15,\n",
        "    batch_size=32,\n",
        "    validation_data=(x_val, y_val)\n",
        ")"
      ]
    },
    {
      "cell_type": "markdown",
      "id": "b48615c26b99d2e9",
      "metadata": {
        "collapsed": false,
        "id": "b48615c26b99d2e9"
      },
      "source": [
        "### Task 3b: Accuracy and other relevant metrics on the test set\n",
        "\n",
        "- Report the accuracy of your model on the test set.\n",
        "- While accuracy is a good metric, there are many other ways to numerically evaluate a model. Report at least one other metric, and explain what it measures and how it is calculated.\n",
        "\n",
        "- <b>Accuracy:</b> 36.61%\n",
        "- <b>Other metric:</b> F1 score\n",
        "- <b>Reason for selection:</b> F1 score is a good combination of the precision (how many predicted positives are actually positives) and recall (how many actual positives were correctly predicted). Its helpful to know how the model performs to correctly predict positives and minimize false negatives.\n",
        "- <b>Value of metric:</b> 37.5%\n",
        "- <b>Interpretation of metric value:</b> This is a low score which means the model is not doing a good job of balancing false positives and false negatives. Might have low precision and low recall."
      ]
    },
    {
      "cell_type": "markdown",
      "source": [],
      "metadata": {
        "id": "t9HNnzs7mThT"
      },
      "id": "t9HNnzs7mThT"
    },
    {
      "cell_type": "code",
      "source": [
        "from sklearn.metrics import classification_report\n",
        "import numpy as np\n",
        "\n",
        "# Evaluate on test data\n",
        "test_loss, test_acc = model.evaluate(x_test, y_test, verbose=0)\n",
        "y_pred = model.predict(x_test)\n",
        "y_pred_classes = np.argmax(y_pred, axis=1)\n",
        "y_true = np.argmax(y_test, axis=1)\n",
        "\n",
        "# Generate a classification report\n",
        "report = classification_report(y_true, y_pred_classes, output_dict=True)\n",
        "print(f\"Accuracy: {test_acc}\")\n",
        "print(f\"Precision, Recall, F1-Score (Macro): {report['macro avg']}\")"
      ],
      "metadata": {
        "colab": {
          "base_uri": "https://localhost:8080/"
        },
        "id": "r7j10cJgkSW1",
        "outputId": "141a3f3b-444f-41c5-9e2f-61fd192583c9"
      },
      "id": "r7j10cJgkSW1",
      "execution_count": 22,
      "outputs": [
        {
          "output_type": "stream",
          "name": "stdout",
          "text": [
            "\u001b[1m313/313\u001b[0m \u001b[32m━━━━━━━━━━━━━━━━━━━━\u001b[0m\u001b[37m\u001b[0m \u001b[1m1s\u001b[0m 2ms/step\n",
            "Accuracy: 0.366100013256073\n",
            "Precision, Recall, F1-Score (Macro): {'precision': 0.389240812895157, 'recall': 0.3660999999999999, 'f1-score': 0.3705081139612421, 'support': 10000.0}\n"
          ]
        }
      ]
    },
    {
      "cell_type": "markdown",
      "id": "58d2d836d4e8ce99",
      "metadata": {
        "collapsed": false,
        "id": "58d2d836d4e8ce99"
      },
      "source": [
        "### Task 3c: Visualize the model's learning\n",
        "\n",
        "- Plot the training accuracy and validation accuracy with respect to epochs.\n",
        "- Select an image that the model correctly classified in the test set, and an image that the model incorrectly classified in the test set. Plot the images and report the model's classification probabilities for each.\n",
        "- Briefly discuss the results. What do the plots show? Do the results make sense? What do the classification probabilities indicate?"
      ]
    },
    {
      "cell_type": "code",
      "execution_count": 23,
      "id": "c5b214475a496ca5",
      "metadata": {
        "ExecuteTime": {
          "end_time": "2024-01-26T17:50:59.733968Z",
          "start_time": "2024-01-26T17:50:59.730635Z"
        },
        "colab": {
          "base_uri": "https://localhost:8080/",
          "height": 564
        },
        "id": "c5b214475a496ca5",
        "outputId": "ff4e3c7b-d2db-4985-85dc-52a7b7ef9db4"
      },
      "outputs": [
        {
          "output_type": "display_data",
          "data": {
            "text/plain": [
              "<Figure size 800x600 with 1 Axes>"
            ],
            "image/png": "[encoded data removed]"
          },
          "metadata": {}
        }
      ],
      "source": [
        "# Plot training and validation accuracy\n",
        "plt.figure(figsize=(8, 6))\n",
        "plt.plot(history.history['accuracy'], label='Training Accuracy')\n",
        "plt.plot(history.history['val_accuracy'], label='Validation Accuracy')\n",
        "plt.xlabel('Epochs')\n",
        "plt.ylabel('Accuracy')\n",
        "plt.title('Training vs Validation Accuracy')\n",
        "plt.legend()\n",
        "plt.show()"
      ]
    },
    {
      "cell_type": "code",
      "source": [
        "# Find correctly classified image\n",
        "correct_idx = np.where(y_pred_classes == y_true)[0][0]  # First correct prediction\n",
        "incorrect_idx = np.where(y_pred_classes != y_true)[0][0]  # First incorrect prediction\n",
        "\n",
        "# Plot the correctly classified image\n",
        "plt.figure(figsize=(6, 3))\n",
        "plt.subplot(1, 2, 1)\n",
        "plt.imshow(x_test[correct_idx])\n",
        "plt.title(f\"Correctly Classified\\nTrue Label: {y_true[correct_idx]}\\nPredicted Label: {y_pred_classes[correct_idx]}\")\n",
        "\n",
        "# Plot the incorrectly classified image\n",
        "plt.subplot(1, 2, 2)\n",
        "plt.imshow(x_test[incorrect_idx])\n",
        "plt.title(f\"Incorrectly Classified\\nTrue Label: {y_true[incorrect_idx]}\\nPredicted Label: {y_pred_classes[incorrect_idx]}\")\n",
        "plt.show()\n",
        "\n",
        "# Report probabilities for the correctly classified image\n",
        "correct_probs = y_pred[correct_idx]\n",
        "print(\"\\nCorrectly Classified - Prediction Probabilities:\")\n",
        "for i, prob in enumerate(correct_probs):\n",
        "    print(f\"Class {i}: {prob:.4f}\")\n",
        "\n",
        "# Report probabilities for the incorrectly classified image\n",
        "incorrect_probs = y_pred[incorrect_idx]\n",
        "print(\"\\nIncorrectly Classified - Prediction Probabilities:\")\n",
        "for i, prob in enumerate(incorrect_probs):\n",
        "    print(f\"Class {i}: {prob:.4f}\")"
      ],
      "metadata": {
        "colab": {
          "base_uri": "https://localhost:8080/",
          "height": 1000
        },
        "id": "74rW0ny2muFZ",
        "outputId": "edf673d2-7383-4b42-d90c-5c3799312cc8"
      },
      "id": "74rW0ny2muFZ",
      "execution_count": 24,
      "outputs": [
        {
          "output_type": "display_data",
          "data": {
            "text/plain": [
              "<Figure size 600x300 with 2 Axes>"
            ],
            "image/png": "[encoded data removed]"
          },
          "metadata": {}
        },
        {
          "output_type": "stream",
          "name": "stdout",
          "text": [
            "\n",
            "Correctly Classified - Prediction Probabilities:\n",
            "Class 0: 0.0000\n",
            "Class 1: 0.0000\n",
            "Class 2: 0.0001\n",
            "Class 3: 0.0006\n",
            "Class 4: 0.0000\n",
            "Class 5: 0.0000\n",
            "Class 6: 0.0000\n",
            "Class 7: 0.0000\n",
            "Class 8: 0.0000\n",
            "Class 9: 0.0000\n",
            "Class 10: 0.0000\n",
            "Class 11: 0.0000\n",
            "Class 12: 0.0000\n",
            "Class 13: 0.0000\n",
            "Class 14: 0.0000\n",
            "Class 15: 0.0001\n",
            "Class 16: 0.0000\n",
            "Class 17: 0.0000\n",
            "Class 18: 0.0136\n",
            "Class 19: 0.0000\n",
            "Class 20: 0.0000\n",
            "Class 21: 0.0000\n",
            "Class 22: 0.0000\n",
            "Class 23: 0.0000\n",
            "Class 24: 0.0000\n",
            "Class 25: 0.0000\n",
            "Class 26: 0.0000\n",
            "Class 27: 0.0002\n",
            "Class 28: 0.0000\n",
            "Class 29: 0.0001\n",
            "Class 30: 0.0000\n",
            "Class 31: 0.0005\n",
            "Class 32: 0.0009\n",
            "Class 33: 0.5552\n",
            "Class 34: 0.0000\n",
            "Class 35: 0.0002\n",
            "Class 36: 0.0000\n",
            "Class 37: 0.0005\n",
            "Class 38: 0.0000\n",
            "Class 39: 0.0000\n",
            "Class 40: 0.0000\n",
            "Class 41: 0.0000\n",
            "Class 42: 0.0001\n",
            "Class 43: 0.0000\n",
            "Class 44: 0.0000\n",
            "Class 45: 0.0000\n",
            "Class 46: 0.0000\n",
            "Class 47: 0.0000\n",
            "Class 48: 0.0000\n",
            "Class 49: 0.0000\n",
            "Class 50: 0.0002\n",
            "Class 51: 0.0001\n",
            "Class 52: 0.0000\n",
            "Class 53: 0.0000\n",
            "Class 54: 0.0000\n",
            "Class 55: 0.0003\n",
            "Class 56: 0.0000\n",
            "Class 57: 0.0000\n",
            "Class 58: 0.0000\n",
            "Class 59: 0.0004\n",
            "Class 60: 0.0000\n",
            "Class 61: 0.0000\n",
            "Class 62: 0.0000\n",
            "Class 63: 0.0012\n",
            "Class 64: 0.0000\n",
            "Class 65: 0.0069\n",
            "Class 66: 0.0008\n",
            "Class 67: 0.0005\n",
            "Class 68: 0.0001\n",
            "Class 69: 0.0000\n",
            "Class 70: 0.0000\n",
            "Class 71: 0.0000\n",
            "Class 72: 0.0000\n",
            "Class 73: 0.0000\n",
            "Class 74: 0.0006\n",
            "Class 75: 0.0000\n",
            "Class 76: 0.0000\n",
            "Class 77: 0.0000\n",
            "Class 78: 0.0000\n",
            "Class 79: 0.0000\n",
            "Class 80: 0.0142\n",
            "Class 81: 0.0000\n",
            "Class 82: 0.0000\n",
            "Class 83: 0.0000\n",
            "Class 84: 0.0001\n",
            "Class 85: 0.0000\n",
            "Class 86: 0.0000\n",
            "Class 87: 0.0000\n",
            "Class 88: 0.0007\n",
            "Class 89: 0.0000\n",
            "Class 90: 0.0000\n",
            "Class 91: 0.0000\n",
            "Class 92: 0.0000\n",
            "Class 93: 0.0000\n",
            "Class 94: 0.0000\n",
            "Class 95: 0.0000\n",
            "Class 96: 0.0006\n",
            "Class 97: 0.4009\n",
            "Class 98: 0.0000\n",
            "Class 99: 0.0000\n",
            "\n",
            "Incorrectly Classified - Prediction Probabilities:\n",
            "Class 0: 0.0000\n",
            "Class 1: 0.0000\n",
            "Class 2: 0.0008\n",
            "Class 3: 0.0000\n",
            "Class 4: 0.0000\n",
            "Class 5: 0.0000\n",
            "Class 6: 0.0000\n",
            "Class 7: 0.0000\n",
            "Class 8: 0.0000\n",
            "Class 9: 0.0000\n",
            "Class 10: 0.0000\n",
            "Class 11: 0.0000\n",
            "Class 12: 0.0000\n",
            "Class 13: 0.0000\n",
            "Class 14: 0.0000\n",
            "Class 15: 0.0000\n",
            "Class 16: 0.0000\n",
            "Class 17: 0.0000\n",
            "Class 18: 0.0000\n",
            "Class 19: 0.0000\n",
            "Class 20: 0.0000\n",
            "Class 21: 0.0000\n",
            "Class 22: 0.0000\n",
            "Class 23: 0.0008\n",
            "Class 24: 0.0001\n",
            "Class 25: 0.0000\n",
            "Class 26: 0.0000\n",
            "Class 27: 0.0011\n",
            "Class 28: 0.0000\n",
            "Class 29: 0.0000\n",
            "Class 30: 0.6370\n",
            "Class 31: 0.0000\n",
            "Class 32: 0.0002\n",
            "Class 33: 0.0000\n",
            "Class 34: 0.0000\n",
            "Class 35: 0.0040\n",
            "Class 36: 0.0000\n",
            "Class 37: 0.0000\n",
            "Class 38: 0.0000\n",
            "Class 39: 0.0001\n",
            "Class 40: 0.0000\n",
            "Class 41: 0.0000\n",
            "Class 42: 0.0000\n",
            "Class 43: 0.0000\n",
            "Class 44: 0.0000\n",
            "Class 45: 0.0000\n",
            "Class 46: 0.0005\n",
            "Class 47: 0.0000\n",
            "Class 48: 0.0000\n",
            "Class 49: 0.3382\n",
            "Class 50: 0.0000\n",
            "Class 51: 0.0000\n",
            "Class 52: 0.0000\n",
            "Class 53: 0.0000\n",
            "Class 54: 0.0000\n",
            "Class 55: 0.0000\n",
            "Class 56: 0.0007\n",
            "Class 57: 0.0000\n",
            "Class 58: 0.0000\n",
            "Class 59: 0.0002\n",
            "Class 60: 0.0000\n",
            "Class 61: 0.0000\n",
            "Class 62: 0.0000\n",
            "Class 63: 0.0000\n",
            "Class 64: 0.0000\n",
            "Class 65: 0.0000\n",
            "Class 66: 0.0000\n",
            "Class 67: 0.0000\n",
            "Class 68: 0.0010\n",
            "Class 69: 0.0096\n",
            "Class 70: 0.0000\n",
            "Class 71: 0.0003\n",
            "Class 72: 0.0037\n",
            "Class 73: 0.0000\n",
            "Class 74: 0.0000\n",
            "Class 75: 0.0000\n",
            "Class 76: 0.0000\n",
            "Class 77: 0.0000\n",
            "Class 78: 0.0000\n",
            "Class 79: 0.0000\n",
            "Class 80: 0.0000\n",
            "Class 81: 0.0000\n",
            "Class 82: 0.0000\n",
            "Class 83: 0.0000\n",
            "Class 84: 0.0000\n",
            "Class 85: 0.0000\n",
            "Class 86: 0.0000\n",
            "Class 87: 0.0000\n",
            "Class 88: 0.0000\n",
            "Class 89: 0.0000\n",
            "Class 90: 0.0002\n",
            "Class 91: 0.0005\n",
            "Class 92: 0.0000\n",
            "Class 93: 0.0000\n",
            "Class 94: 0.0000\n",
            "Class 95: 0.0011\n",
            "Class 96: 0.0000\n",
            "Class 97: 0.0000\n",
            "Class 98: 0.0000\n",
            "Class 99: 0.0000\n"
          ]
        }
      ]
    },
    {
      "cell_type": "markdown",
      "id": "a648758ebea0561d",
      "metadata": {
        "collapsed": false,
        "id": "a648758ebea0561d"
      },
      "source": [
        "## Task 4: Model Enhancement (Complete or Incomplete)\n",
        "### Task 4a: Implementation of at least one advanced technique\n",
        "\n",
        "- Now it's time to improve your model. Implement at least one technique to improve your model's performance. You can use any of the techniques we have covered in class, or you can use a technique that we haven't covered. If you need inspiration, you can refer to the [Keras documentation](https://keras.io/).\n",
        "- Explain the technique you used and why you chose it.\n",
        "- If you used a technique that requires tuning, explain how you selected the values for the hyperparameters."
      ]
    },
    {
      "cell_type": "code",
      "source": [
        "from keras.layers import Dropout\n",
        "from tensorflow.keras.layers import BatchNormalization\n",
        "\n",
        "enhanced_model = Sequential()\n",
        "\n",
        "enhanced_model.add(Conv2D(32, (3, 3), activation='relu', padding='same', input_shape=(32, 32, 3)))\n",
        "enhanced_model.add(BatchNormalization())\n",
        "enhanced_model.add(MaxPooling2D((2, 2)))\n",
        "enhanced_model.add(Dropout(0.3))\n",
        "\n",
        "\n",
        "enhanced_model.add(Conv2D(64, (3, 3), activation='relu', padding='same'))\n",
        "enhanced_model.add(BatchNormalization())\n",
        "enhanced_model.add(MaxPooling2D((2, 2)))\n",
        "enhanced_model.add(Dropout(0.3))\n",
        "\n",
        "enhanced_model.add(Conv2D(128, (3, 3), activation='relu', padding='same'))\n",
        "enhanced_model.add(BatchNormalization())\n",
        "enhanced_model.add(MaxPooling2D((2, 2)))\n",
        "enhanced_model.add(Dropout(0.4))\n",
        "\n",
        "enhanced_model.add(Flatten())\n",
        "enhanced_model.add(BatchNormalization())\n",
        "enhanced_model.add(Dropout(0.5))\n",
        "enhanced_model.add(Dense(100, activation='softmax'))\n",
        "\n",
        "model.summary()"
      ],
      "metadata": {
        "colab": {
          "base_uri": "https://localhost:8080/",
          "height": 469
        },
        "id": "m0Z7GjxAn769",
        "outputId": "6c006bb9-9372-4f10-e5fe-116e5ed30801"
      },
      "id": "m0Z7GjxAn769",
      "execution_count": 29,
      "outputs": [
        {
          "output_type": "stream",
          "name": "stderr",
          "text": [
            "/usr/local/lib/python3.11/dist-packages/keras/src/layers/convolutional/base_conv.py:107: UserWarning: Do not pass an `input_shape`/`input_dim` argument to a layer. When using Sequential models, prefer using an `Input(shape)` object as the first layer in the model instead.\n",
            "  super().__init__(activity_regularizer=activity_regularizer, **kwargs)\n"
          ]
        },
        {
          "output_type": "display_data",
          "data": {
            "text/plain": [
              "\u001b[1mModel: \"sequential_5\"\u001b[0m\n"
            ],
            "text/html": [
              "<pre style=\"white-space:pre;overflow-x:auto;line-height:normal;font-family:Menlo,'DejaVu Sans Mono',consolas,'Courier New',monospace\"><span style=\"font-weight: bold\">Model: \"sequential_5\"</span>\n",
              "</pre>\n"
            ]
          },
          "metadata": {}
        },
        {
          "output_type": "display_data",
          "data": {
            "text/plain": [
              "┏━━━━━━━━━━━━━━━━━━━━━━━━━━━━━━━━━━━━━━┳━━━━━━━━━━━━━━━━━━━━━━━━━━━━━┳━━━━━━━━━━━━━━━━━┓\n",
              "┃\u001b[1m \u001b[0m\u001b[1mLayer (type)                        \u001b[0m\u001b[1m \u001b[0m┃\u001b[1m \u001b[0m\u001b[1mOutput Shape               \u001b[0m\u001b[1m \u001b[0m┃\u001b[1m \u001b[0m\u001b[1m        Param #\u001b[0m\u001b[1m \u001b[0m┃\n",
              "┡━━━━━━━━━━━━━━━━━━━━━━━━━━━━━━━━━━━━━━╇━━━━━━━━━━━━━━━━━━━━━━━━━━━━━╇━━━━━━━━━━━━━━━━━┩\n",
              "│ conv2d_13 (\u001b[38;5;33mConv2D\u001b[0m)                   │ (\u001b[38;5;45mNone\u001b[0m, \u001b[38;5;34m32\u001b[0m, \u001b[38;5;34m32\u001b[0m, \u001b[38;5;34m32\u001b[0m)          │             \u001b[38;5;34m896\u001b[0m │\n",
              "├──────────────────────────────────────┼─────────────────────────────┼─────────────────┤\n",
              "│ max_pooling2d_12 (\u001b[38;5;33mMaxPooling2D\u001b[0m)      │ (\u001b[38;5;45mNone\u001b[0m, \u001b[38;5;34m16\u001b[0m, \u001b[38;5;34m16\u001b[0m, \u001b[38;5;34m32\u001b[0m)          │               \u001b[38;5;34m0\u001b[0m │\n",
              "├──────────────────────────────────────┼─────────────────────────────┼─────────────────┤\n",
              "│ conv2d_14 (\u001b[38;5;33mConv2D\u001b[0m)                   │ (\u001b[38;5;45mNone\u001b[0m, \u001b[38;5;34m16\u001b[0m, \u001b[38;5;34m16\u001b[0m, \u001b[38;5;34m64\u001b[0m)          │          \u001b[38;5;34m18,496\u001b[0m │\n",
              "├──────────────────────────────────────┼─────────────────────────────┼─────────────────┤\n",
              "│ max_pooling2d_13 (\u001b[38;5;33mMaxPooling2D\u001b[0m)      │ (\u001b[38;5;45mNone\u001b[0m, \u001b[38;5;34m8\u001b[0m, \u001b[38;5;34m8\u001b[0m, \u001b[38;5;34m64\u001b[0m)            │               \u001b[38;5;34m0\u001b[0m │\n",
              "├──────────────────────────────────────┼─────────────────────────────┼─────────────────┤\n",
              "│ conv2d_15 (\u001b[38;5;33mConv2D\u001b[0m)                   │ (\u001b[38;5;45mNone\u001b[0m, \u001b[38;5;34m8\u001b[0m, \u001b[38;5;34m8\u001b[0m, \u001b[38;5;34m128\u001b[0m)           │          \u001b[38;5;34m73,856\u001b[0m │\n",
              "├──────────────────────────────────────┼─────────────────────────────┼─────────────────┤\n",
              "│ max_pooling2d_14 (\u001b[38;5;33mMaxPooling2D\u001b[0m)      │ (\u001b[38;5;45mNone\u001b[0m, \u001b[38;5;34m4\u001b[0m, \u001b[38;5;34m4\u001b[0m, \u001b[38;5;34m128\u001b[0m)           │               \u001b[38;5;34m0\u001b[0m │\n",
              "├──────────────────────────────────────┼─────────────────────────────┼─────────────────┤\n",
              "│ flatten_4 (\u001b[38;5;33mFlatten\u001b[0m)                  │ (\u001b[38;5;45mNone\u001b[0m, \u001b[38;5;34m2048\u001b[0m)                │               \u001b[38;5;34m0\u001b[0m │\n",
              "├──────────────────────────────────────┼─────────────────────────────┼─────────────────┤\n",
              "│ dense_5 (\u001b[38;5;33mDense\u001b[0m)                      │ (\u001b[38;5;45mNone\u001b[0m, \u001b[38;5;34m100\u001b[0m)                 │         \u001b[38;5;34m204,900\u001b[0m │\n",
              "└──────────────────────────────────────┴─────────────────────────────┴─────────────────┘\n"
            ],
            "text/html": [
              "<pre style=\"white-space:pre;overflow-x:auto;line-height:normal;font-family:Menlo,'DejaVu Sans Mono',consolas,'Courier New',monospace\">┏━━━━━━━━━━━━━━━━━━━━━━━━━━━━━━━━━━━━━━┳━━━━━━━━━━━━━━━━━━━━━━━━━━━━━┳━━━━━━━━━━━━━━━━━┓\n",
              "┃<span style=\"font-weight: bold\"> Layer (type)                         </span>┃<span style=\"font-weight: bold\"> Output Shape                </span>┃<span style=\"font-weight: bold\">         Param # </span>┃\n",
              "┡━━━━━━━━━━━━━━━━━━━━━━━━━━━━━━━━━━━━━━╇━━━━━━━━━━━━━━━━━━━━━━━━━━━━━╇━━━━━━━━━━━━━━━━━┩\n",
              "│ conv2d_13 (<span style=\"color: #0087ff; text-decoration-color: #0087ff\">Conv2D</span>)                   │ (<span style=\"color: #00d7ff; text-decoration-color: #00d7ff\">None</span>, <span style=\"color: #00af00; text-decoration-color: #00af00\">32</span>, <span style=\"color: #00af00; text-decoration-color: #00af00\">32</span>, <span style=\"color: #00af00; text-decoration-color: #00af00\">32</span>)          │             <span style=\"color: #00af00; text-decoration-color: #00af00\">896</span> │\n",
              "├──────────────────────────────────────┼─────────────────────────────┼─────────────────┤\n",
              "│ max_pooling2d_12 (<span style=\"color: #0087ff; text-decoration-color: #0087ff\">MaxPooling2D</span>)      │ (<span style=\"color: #00d7ff; text-decoration-color: #00d7ff\">None</span>, <span style=\"color: #00af00; text-decoration-color: #00af00\">16</span>, <span style=\"color: #00af00; text-decoration-color: #00af00\">16</span>, <span style=\"color: #00af00; text-decoration-color: #00af00\">32</span>)          │               <span style=\"color: #00af00; text-decoration-color: #00af00\">0</span> │\n",
              "├──────────────────────────────────────┼─────────────────────────────┼─────────────────┤\n",
              "│ conv2d_14 (<span style=\"color: #0087ff; text-decoration-color: #0087ff\">Conv2D</span>)                   │ (<span style=\"color: #00d7ff; text-decoration-color: #00d7ff\">None</span>, <span style=\"color: #00af00; text-decoration-color: #00af00\">16</span>, <span style=\"color: #00af00; text-decoration-color: #00af00\">16</span>, <span style=\"color: #00af00; text-decoration-color: #00af00\">64</span>)          │          <span style=\"color: #00af00; text-decoration-color: #00af00\">18,496</span> │\n",
              "├──────────────────────────────────────┼─────────────────────────────┼─────────────────┤\n",
              "│ max_pooling2d_13 (<span style=\"color: #0087ff; text-decoration-color: #0087ff\">MaxPooling2D</span>)      │ (<span style=\"color: #00d7ff; text-decoration-color: #00d7ff\">None</span>, <span style=\"color: #00af00; text-decoration-color: #00af00\">8</span>, <span style=\"color: #00af00; text-decoration-color: #00af00\">8</span>, <span style=\"color: #00af00; text-decoration-color: #00af00\">64</span>)            │               <span style=\"color: #00af00; text-decoration-color: #00af00\">0</span> │\n",
              "├──────────────────────────────────────┼─────────────────────────────┼─────────────────┤\n",
              "│ conv2d_15 (<span style=\"color: #0087ff; text-decoration-color: #0087ff\">Conv2D</span>)                   │ (<span style=\"color: #00d7ff; text-decoration-color: #00d7ff\">None</span>, <span style=\"color: #00af00; text-decoration-color: #00af00\">8</span>, <span style=\"color: #00af00; text-decoration-color: #00af00\">8</span>, <span style=\"color: #00af00; text-decoration-color: #00af00\">128</span>)           │          <span style=\"color: #00af00; text-decoration-color: #00af00\">73,856</span> │\n",
              "├──────────────────────────────────────┼─────────────────────────────┼─────────────────┤\n",
              "│ max_pooling2d_14 (<span style=\"color: #0087ff; text-decoration-color: #0087ff\">MaxPooling2D</span>)      │ (<span style=\"color: #00d7ff; text-decoration-color: #00d7ff\">None</span>, <span style=\"color: #00af00; text-decoration-color: #00af00\">4</span>, <span style=\"color: #00af00; text-decoration-color: #00af00\">4</span>, <span style=\"color: #00af00; text-decoration-color: #00af00\">128</span>)           │               <span style=\"color: #00af00; text-decoration-color: #00af00\">0</span> │\n",
              "├──────────────────────────────────────┼─────────────────────────────┼─────────────────┤\n",
              "│ flatten_4 (<span style=\"color: #0087ff; text-decoration-color: #0087ff\">Flatten</span>)                  │ (<span style=\"color: #00d7ff; text-decoration-color: #00d7ff\">None</span>, <span style=\"color: #00af00; text-decoration-color: #00af00\">2048</span>)                │               <span style=\"color: #00af00; text-decoration-color: #00af00\">0</span> │\n",
              "├──────────────────────────────────────┼─────────────────────────────┼─────────────────┤\n",
              "│ dense_5 (<span style=\"color: #0087ff; text-decoration-color: #0087ff\">Dense</span>)                      │ (<span style=\"color: #00d7ff; text-decoration-color: #00d7ff\">None</span>, <span style=\"color: #00af00; text-decoration-color: #00af00\">100</span>)                 │         <span style=\"color: #00af00; text-decoration-color: #00af00\">204,900</span> │\n",
              "└──────────────────────────────────────┴─────────────────────────────┴─────────────────┘\n",
              "</pre>\n"
            ]
          },
          "metadata": {}
        },
        {
          "output_type": "display_data",
          "data": {
            "text/plain": [
              "\u001b[1m Total params: \u001b[0m\u001b[38;5;34m894,446\u001b[0m (3.41 MB)\n"
            ],
            "text/html": [
              "<pre style=\"white-space:pre;overflow-x:auto;line-height:normal;font-family:Menlo,'DejaVu Sans Mono',consolas,'Courier New',monospace\"><span style=\"font-weight: bold\"> Total params: </span><span style=\"color: #00af00; text-decoration-color: #00af00\">894,446</span> (3.41 MB)\n",
              "</pre>\n"
            ]
          },
          "metadata": {}
        },
        {
          "output_type": "display_data",
          "data": {
            "text/plain": [
              "\u001b[1m Trainable params: \u001b[0m\u001b[38;5;34m298,148\u001b[0m (1.14 MB)\n"
            ],
            "text/html": [
              "<pre style=\"white-space:pre;overflow-x:auto;line-height:normal;font-family:Menlo,'DejaVu Sans Mono',consolas,'Courier New',monospace\"><span style=\"font-weight: bold\"> Trainable params: </span><span style=\"color: #00af00; text-decoration-color: #00af00\">298,148</span> (1.14 MB)\n",
              "</pre>\n"
            ]
          },
          "metadata": {}
        },
        {
          "output_type": "display_data",
          "data": {
            "text/plain": [
              "\u001b[1m Non-trainable params: \u001b[0m\u001b[38;5;34m0\u001b[0m (0.00 B)\n"
            ],
            "text/html": [
              "<pre style=\"white-space:pre;overflow-x:auto;line-height:normal;font-family:Menlo,'DejaVu Sans Mono',consolas,'Courier New',monospace\"><span style=\"font-weight: bold\"> Non-trainable params: </span><span style=\"color: #00af00; text-decoration-color: #00af00\">0</span> (0.00 B)\n",
              "</pre>\n"
            ]
          },
          "metadata": {}
        },
        {
          "output_type": "display_data",
          "data": {
            "text/plain": [
              "\u001b[1m Optimizer params: \u001b[0m\u001b[38;5;34m596,298\u001b[0m (2.27 MB)\n"
            ],
            "text/html": [
              "<pre style=\"white-space:pre;overflow-x:auto;line-height:normal;font-family:Menlo,'DejaVu Sans Mono',consolas,'Courier New',monospace\"><span style=\"font-weight: bold\"> Optimizer params: </span><span style=\"color: #00af00; text-decoration-color: #00af00\">596,298</span> (2.27 MB)\n",
              "</pre>\n"
            ]
          },
          "metadata": {}
        }
      ]
    },
    {
      "cell_type": "code",
      "source": [
        "enhanced_model.compile(optimizer=Adam(),\n",
        "              loss='categorical_crossentropy',\n",
        "              metrics=['accuracy'])"
      ],
      "metadata": {
        "id": "yzq2EqoQoZ4F"
      },
      "id": "yzq2EqoQoZ4F",
      "execution_count": 30,
      "outputs": []
    },
    {
      "cell_type": "markdown",
      "id": "d9467a483a1dd5d3",
      "metadata": {
        "collapsed": false,
        "id": "d9467a483a1dd5d3"
      },
      "source": [
        "### Task 4b: Evaluation of the enhanced model\n",
        "\n",
        "- Re-train your model using the same number of epochs as before.\n",
        "- Compare the accuracy and other selected metric on the test set to the results you obtained before.\n",
        "- As before, plot the training accuracy and validation accuracy with respect to epochs, and select an image that the model correctly classified in the test set, and an image that the model incorrectly classified in the test set. Plot the images and report the model's classification probabilities for each."
      ]
    },
    {
      "cell_type": "code",
      "execution_count": 31,
      "id": "7c4701b36dc8fc55",
      "metadata": {
        "colab": {
          "base_uri": "https://localhost:8080/"
        },
        "id": "7c4701b36dc8fc55",
        "outputId": "efe6eb71-40fb-496b-b948-f933fe1be0e2"
      },
      "outputs": [
        {
          "output_type": "stream",
          "name": "stdout",
          "text": [
            "Epoch 1/15\n",
            "\u001b[1m1250/1250\u001b[0m \u001b[32m━━━━━━━━━━━━━━━━━━━━\u001b[0m\u001b[37m\u001b[0m \u001b[1m16s\u001b[0m 6ms/step - accuracy: 0.0634 - loss: 5.1442 - val_accuracy: 0.1964 - val_loss: 3.4651\n",
            "Epoch 2/15\n",
            "\u001b[1m1250/1250\u001b[0m \u001b[32m━━━━━━━━━━━━━━━━━━━━\u001b[0m\u001b[37m\u001b[0m \u001b[1m13s\u001b[0m 5ms/step - accuracy: 0.1511 - loss: 4.0262 - val_accuracy: 0.2662 - val_loss: 3.0579\n",
            "Epoch 3/15\n",
            "\u001b[1m1250/1250\u001b[0m \u001b[32m━━━━━━━━━━━━━━━━━━━━\u001b[0m\u001b[37m\u001b[0m \u001b[1m10s\u001b[0m 5ms/step - accuracy: 0.2044 - loss: 3.5137 - val_accuracy: 0.2978 - val_loss: 2.8351\n",
            "Epoch 4/15\n",
            "\u001b[1m1250/1250\u001b[0m \u001b[32m━━━━━━━━━━━━━━━━━━━━\u001b[0m\u001b[37m\u001b[0m \u001b[1m10s\u001b[0m 4ms/step - accuracy: 0.2456 - loss: 3.2195 - val_accuracy: 0.3105 - val_loss: 2.7583\n",
            "Epoch 5/15\n",
            "\u001b[1m1250/1250\u001b[0m \u001b[32m━━━━━━━━━━━━━━━━━━━━\u001b[0m\u001b[37m\u001b[0m \u001b[1m6s\u001b[0m 5ms/step - accuracy: 0.2741 - loss: 2.9729 - val_accuracy: 0.3468 - val_loss: 2.5885\n",
            "Epoch 6/15\n",
            "\u001b[1m1250/1250\u001b[0m \u001b[32m━━━━━━━━━━━━━━━━━━━━\u001b[0m\u001b[37m\u001b[0m \u001b[1m6s\u001b[0m 5ms/step - accuracy: 0.3086 - loss: 2.7937 - val_accuracy: 0.3542 - val_loss: 2.6106\n",
            "Epoch 7/15\n",
            "\u001b[1m1250/1250\u001b[0m \u001b[32m━━━━━━━━━━━━━━━━━━━━\u001b[0m\u001b[37m\u001b[0m \u001b[1m7s\u001b[0m 5ms/step - accuracy: 0.3292 - loss: 2.6891 - val_accuracy: 0.3733 - val_loss: 2.5119\n",
            "Epoch 8/15\n",
            "\u001b[1m1250/1250\u001b[0m \u001b[32m━━━━━━━━━━━━━━━━━━━━\u001b[0m\u001b[37m\u001b[0m \u001b[1m6s\u001b[0m 4ms/step - accuracy: 0.3421 - loss: 2.6206 - val_accuracy: 0.3924 - val_loss: 2.3907\n",
            "Epoch 9/15\n",
            "\u001b[1m1250/1250\u001b[0m \u001b[32m━━━━━━━━━━━━━━━━━━━━\u001b[0m\u001b[37m\u001b[0m \u001b[1m11s\u001b[0m 5ms/step - accuracy: 0.3565 - loss: 2.5533 - val_accuracy: 0.3951 - val_loss: 2.4455\n",
            "Epoch 10/15\n",
            "\u001b[1m1250/1250\u001b[0m \u001b[32m━━━━━━━━━━━━━━━━━━━━\u001b[0m\u001b[37m\u001b[0m \u001b[1m10s\u001b[0m 4ms/step - accuracy: 0.3676 - loss: 2.4818 - val_accuracy: 0.3398 - val_loss: 2.6910\n",
            "Epoch 11/15\n",
            "\u001b[1m1250/1250\u001b[0m \u001b[32m━━━━━━━━━━━━━━━━━━━━\u001b[0m\u001b[37m\u001b[0m \u001b[1m11s\u001b[0m 5ms/step - accuracy: 0.3761 - loss: 2.4224 - val_accuracy: 0.4296 - val_loss: 2.2698\n",
            "Epoch 12/15\n",
            "\u001b[1m1250/1250\u001b[0m \u001b[32m━━━━━━━━━━━━━━━━━━━━\u001b[0m\u001b[37m\u001b[0m \u001b[1m10s\u001b[0m 5ms/step - accuracy: 0.3871 - loss: 2.4031 - val_accuracy: 0.4294 - val_loss: 2.2531\n",
            "Epoch 13/15\n",
            "\u001b[1m1250/1250\u001b[0m \u001b[32m━━━━━━━━━━━━━━━━━━━━\u001b[0m\u001b[37m\u001b[0m \u001b[1m10s\u001b[0m 5ms/step - accuracy: 0.3912 - loss: 2.3691 - val_accuracy: 0.4282 - val_loss: 2.2299\n",
            "Epoch 14/15\n",
            "\u001b[1m1250/1250\u001b[0m \u001b[32m━━━━━━━━━━━━━━━━━━━━\u001b[0m\u001b[37m\u001b[0m \u001b[1m6s\u001b[0m 5ms/step - accuracy: 0.3995 - loss: 2.3276 - val_accuracy: 0.4311 - val_loss: 2.2417\n",
            "Epoch 15/15\n",
            "\u001b[1m1250/1250\u001b[0m \u001b[32m━━━━━━━━━━━━━━━━━━━━\u001b[0m\u001b[37m\u001b[0m \u001b[1m6s\u001b[0m 5ms/step - accuracy: 0.4037 - loss: 2.3114 - val_accuracy: 0.4250 - val_loss: 2.2351\n"
          ]
        }
      ],
      "source": [
        "history = enhanced_model.fit(\n",
        "    x_train, y_train,\n",
        "    epochs=15,\n",
        "    batch_size=32,\n",
        "    validation_data=(x_val, y_val)\n",
        ")"
      ]
    },
    {
      "cell_type": "markdown",
      "id": "eadfc848700215e8",
      "metadata": {
        "collapsed": false,
        "id": "eadfc848700215e8"
      },
      "source": [
        "### Task 4c: Discussion of the results\n",
        "\n",
        "- Briefly discuss the results.\n",
        "- Did the model's performance improve?\n",
        "- Why do you think this is?\n",
        "- Do you think there is room for further improvement? Why or why not?\n",
        "- What other techniques might you try in the future?\n",
        "- Your answer should be no more than 200 words.\n",
        "\n",
        "# I added batch normalization and dropout to each layer of my network. This did improve the accuracy from 36% to 42.5% althought not up to 55% so definitely there is room for improvment. The batch normalization normalizes the values between 0 and 1 which allows the model to handle fluctuations better and can train better. Dropout helps reduce overfitting by dropping a proportion of the training set so that the model can be trainined on different sets and learn more generalized patterns as opposed to overfitting to the training set. In order to improve the model further, i could add a few more layers and use data augmentation, which diversifies the training set."
      ]
    },
    {
      "cell_type": "markdown",
      "id": "7415f68f",
      "metadata": {
        "id": "7415f68f"
      },
      "source": [
        "## Criteria\n",
        "\n",
        "|Criteria|Complete|Incomplete|\n",
        "|----|----|----|\n",
        "|Task 1|The task has been completed successfully and there are no errors.|The task is still incomplete and there is at least one error.|\n",
        "|Task 2|The task has been completed successfully and there are no errors.|The task is still incomplete and there is at least one error.|\n",
        "|Task 3|The task has been completed successfully and there are no errors.|The task is still incomplete and there is at least one error.|\n",
        "|Task 4|The task has been completed successfully and there are no errors.|The task is still incomplete and there is at least one error.|"
      ]
    },
    {
      "cell_type": "markdown",
      "id": "ad0c10bc",
      "metadata": {
        "id": "ad0c10bc"
      },
      "source": [
        "## Submission Information\n",
        "\n",
        "🚨 **Please review our [Assignment Submission Guide](https://github.com/UofT-DSI/onboarding/blob/main/onboarding_documents/submissions.md)** 🚨 for detailed instructions on how to format, branch, and submit your work. Following these guidelines is crucial for your submissions to be evaluated correctly.\n",
        "\n",
        "### Submission Parameters:\n",
        "* Submission Due Date: `HH:MM AM/PM - DD/MM/YYYY`\n",
        "* The branch name for your repo should be: `assignment-1`\n",
        "* What to submit for this assignment:\n",
        "    * This Jupyter Notebook (assignment_1.ipynb) should be populated and should be the only change in your pull request.\n",
        "* What the pull request link should look like for this assignment: `https://github.com/<your_github_username>/deep_learning/pull/<pr_id>`\n",
        "    * Open a private window in your browser. Copy and paste the link to your pull request into the address bar. Make sure you can see your pull request properly. This helps the technical facilitator and learning support staff review your submission easily.\n",
        "\n",
        "Checklist:\n",
        "- [ ] Created a branch with the correct naming convention.\n",
        "- [ ] Ensured that the repository is public.\n",
        "- [ ] Reviewed the PR description guidelines and adhered to them.\n",
        "- [ ] Verify that the link is accessible in a private browser window.\n",
        "\n",
        "If you encounter any difficulties or have questions, please don't hesitate to reach out to our team via our Slack at `#cohort-3-help`. Our Technical Facilitators and Learning Support staff are here to help you navigate any challenges."
      ]
    }
  ],
  "metadata": {
    "kernelspec": {
      "display_name": "Python 3",
      "name": "python3"
    },
    "language_info": {
      "codemirror_mode": {
        "name": "ipython",
        "version": 3
      },
      "file_extension": ".py",
      "mimetype": "text/x-python",
      "name": "python",
      "nbconvert_exporter": "python",
      "pygments_lexer": "ipython3",
      "version": "3.12.9"
    },
    "colab": {
      "provenance": [],
      "gpuType": "T4"
    },
    "accelerator": "GPU"
  },
  "nbformat": 4,
  "nbformat_minor": 5
}